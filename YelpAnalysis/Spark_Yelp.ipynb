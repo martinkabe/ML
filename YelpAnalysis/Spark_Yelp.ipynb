{
 "cells": [
  {
   "cell_type": "markdown",
   "metadata": {},
   "source": [
    "<h1>Yelp - building star rating classifier</h1>"
   ]
  },
  {
   "cell_type": "markdown",
   "metadata": {},
   "source": [
    "<p style=\"font-size:18px;color:blue;\">Followring simple excercise demonstrates star rating classifier, particularly Naive Bayes.</p>"
   ]
  },
  {
   "cell_type": "code",
   "execution_count": 1,
   "metadata": {},
   "outputs": [],
   "source": [
    "from pyspark.sql import SparkSession"
   ]
  },
  {
   "cell_type": "code",
   "execution_count": 2,
   "metadata": {},
   "outputs": [],
   "source": [
    "spark = SparkSession.builder.appName('yelp').getOrCreate()"
   ]
  },
  {
   "cell_type": "code",
   "execution_count": 3,
   "metadata": {},
   "outputs": [],
   "source": [
    "biz = spark.read.json('d:/O2_CaseStudy/business.json')"
   ]
  },
  {
   "cell_type": "code",
   "execution_count": 4,
   "metadata": {},
   "outputs": [],
   "source": [
    "review = spark.read.json('d:/O2_CaseStudy/review.json')"
   ]
  },
  {
   "cell_type": "markdown",
   "metadata": {},
   "source": [
    "<h3>Average star rating less than 3 by cities</h3>"
   ]
  },
  {
   "cell_type": "code",
   "execution_count": 41,
   "metadata": {},
   "outputs": [],
   "source": [
    "# Sum by Agg\n",
    "group_data = biz.groupBy(\"city\")\n",
    "result = group_data.agg({'stars':'avg'})\n",
    "result = result.orderBy(result['avg(stars)'].desc())\n",
    "result = result.filter(result['avg(stars)'] < 3.0).toPandas()\n",
    "result.columns = ['City', 'AvgStars']"
   ]
  },
  {
   "cell_type": "code",
   "execution_count": 42,
   "metadata": {},
   "outputs": [
    {
     "data": {
      "text/html": [
       "<div>\n",
       "<style scoped>\n",
       "    .dataframe tbody tr th:only-of-type {\n",
       "        vertical-align: middle;\n",
       "    }\n",
       "\n",
       "    .dataframe tbody tr th {\n",
       "        vertical-align: top;\n",
       "    }\n",
       "\n",
       "    .dataframe thead th {\n",
       "        text-align: right;\n",
       "    }\n",
       "</style>\n",
       "<table border=\"1\" class=\"dataframe\">\n",
       "  <thead>\n",
       "    <tr style=\"text-align: right;\">\n",
       "      <th></th>\n",
       "      <th>City</th>\n",
       "      <th>AvgStars</th>\n",
       "    </tr>\n",
       "  </thead>\n",
       "  <tbody>\n",
       "    <tr>\n",
       "      <td>0</td>\n",
       "      <td>Dorval</td>\n",
       "      <td>2.989691</td>\n",
       "    </tr>\n",
       "    <tr>\n",
       "      <td>1</td>\n",
       "      <td>Brookpark</td>\n",
       "      <td>2.968750</td>\n",
       "    </tr>\n",
       "    <tr>\n",
       "      <td>2</td>\n",
       "      <td>Greenfield Park</td>\n",
       "      <td>2.950000</td>\n",
       "    </tr>\n",
       "    <tr>\n",
       "      <td>3</td>\n",
       "      <td>Rexdale</td>\n",
       "      <td>2.900000</td>\n",
       "    </tr>\n",
       "    <tr>\n",
       "      <td>4</td>\n",
       "      <td>St-Leonard</td>\n",
       "      <td>2.900000</td>\n",
       "    </tr>\n",
       "  </tbody>\n",
       "</table>\n",
       "</div>"
      ],
      "text/plain": [
       "              City  AvgStars\n",
       "0           Dorval  2.989691\n",
       "1        Brookpark  2.968750\n",
       "2  Greenfield Park  2.950000\n",
       "3          Rexdale  2.900000\n",
       "4       St-Leonard  2.900000"
      ]
     },
     "execution_count": 42,
     "metadata": {},
     "output_type": "execute_result"
    }
   ],
   "source": [
    "result.head(5)"
   ]
  },
  {
   "cell_type": "code",
   "execution_count": 19,
   "metadata": {},
   "outputs": [],
   "source": [
    "import pandas as pd\n",
    "import numpy as np\n",
    "import seaborn as sns\n",
    "import matplotlib.pyplot as plt\n",
    "%matplotlib inline "
   ]
  },
  {
   "cell_type": "markdown",
   "metadata": {},
   "source": [
    "<h3>Top 20 results of Average star rating less than 3 by cities - graphical interpretation with Seaborn</h3>"
   ]
  },
  {
   "cell_type": "code",
   "execution_count": 43,
   "metadata": {},
   "outputs": [
    {
     "data": {
      "image/png": "[encoded data removed]",
      "text/plain": [
       "<Figure size 432x288 with 1 Axes>"
      ]
     },
     "metadata": {
      "needs_background": "light"
     },
     "output_type": "display_data"
    }
   ],
   "source": [
    "sns.barplot(data=result.head(20), x='AvgStars', y='City')\n",
    "sns.despine(left = True, bottom = True)\n",
    "plt.show()"
   ]
  },
  {
   "cell_type": "markdown",
   "metadata": {},
   "source": [
    "## NLP for Earl of Sandwich - Naive Bayes classification for stars rating"
   ]
  },
  {
   "cell_type": "code",
   "execution_count": 59,
   "metadata": {},
   "outputs": [],
   "source": [
    "from pyspark.ml.feature import (Tokenizer, StopWordsRemover, CountVectorizer,\n",
    "                                IDF, StringIndexer)\n",
    "import numpy as np"
   ]
  },
  {
   "cell_type": "code",
   "execution_count": 159,
   "metadata": {},
   "outputs": [],
   "source": [
    "eos = np.array(biz.filter(biz['name'] == 'Earl of Sandwich').select('business_id').collect())"
   ]
  },
  {
   "cell_type": "code",
   "execution_count": 160,
   "metadata": {},
   "outputs": [
    {
     "data": {
      "text/plain": [
       "array([['DEBqmgxv2yhJ93LqGpKltg'],\n",
       "       ['fE7x3Ui2mzdwdfJnd7r_1g'],\n",
       "       ['DkYS3arLOhA8si5uUEmHOw'],\n",
       "       ['Ffhe2cmRyloz3CCdRGvHtA'],\n",
       "       ['3fT1kcQ-MVEImGHa3hll5w']], dtype='<U22')"
      ]
     },
     "execution_count": 160,
     "metadata": {},
     "output_type": "execute_result"
    }
   ],
   "source": [
    "eos"
   ]
  },
  {
   "cell_type": "code",
   "execution_count": 165,
   "metadata": {},
   "outputs": [],
   "source": [
    "earl_of_sandwich = review.filter(\"business_id in ('DEBqmgxv2yhJ93LqGpKltg','fE7x3Ui2mzdwdfJnd7r_1g','DkYS3arLOhA8si5uUEmHOw','Ffhe2cmRyloz3CCdRGvHtA','3fT1kcQ-MVEImGHa3hll5w')\")"
   ]
  },
  {
   "cell_type": "code",
   "execution_count": 166,
   "metadata": {},
   "outputs": [
    {
     "name": "stdout",
     "output_type": "stream",
     "text": [
      "+-----+-----+\n",
      "|stars|count|\n",
      "+-----+-----+\n",
      "|  1.0|  141|\n",
      "|  4.0| 1889|\n",
      "|  3.0|  704|\n",
      "|  2.0|  246|\n",
      "|  5.0| 2875|\n",
      "+-----+-----+\n",
      "\n"
     ]
    }
   ],
   "source": [
    "earl_of_sandwich.groupBy('stars').count().show()"
   ]
  },
  {
   "cell_type": "code",
   "execution_count": 60,
   "metadata": {},
   "outputs": [
    {
     "data": {
      "text/plain": [
       "['business_id',\n",
       " 'cool',\n",
       " 'date',\n",
       " 'funny',\n",
       " 'review_id',\n",
       " 'stars',\n",
       " 'text',\n",
       " 'useful',\n",
       " 'user_id']"
      ]
     },
     "execution_count": 60,
     "metadata": {},
     "output_type": "execute_result"
    }
   ],
   "source": [
    "earl_of_sandwich.columns"
   ]
  },
  {
   "cell_type": "code",
   "execution_count": 167,
   "metadata": {},
   "outputs": [],
   "source": [
    "from pyspark.sql.functions import length"
   ]
  },
  {
   "cell_type": "code",
   "execution_count": 168,
   "metadata": {},
   "outputs": [],
   "source": [
    "earl_of_sandwich = earl_of_sandwich.withColumn('length', length(earl_of_sandwich['text']))"
   ]
  },
  {
   "cell_type": "code",
   "execution_count": 169,
   "metadata": {},
   "outputs": [],
   "source": [
    "from pyspark.sql.functions import format_number"
   ]
  },
  {
   "cell_type": "code",
   "execution_count": 170,
   "metadata": {},
   "outputs": [
    {
     "data": {
      "text/plain": [
       "['business_id',\n",
       " 'cool',\n",
       " 'date',\n",
       " 'funny',\n",
       " 'review_id',\n",
       " 'stars',\n",
       " 'text',\n",
       " 'useful',\n",
       " 'user_id',\n",
       " 'length']"
      ]
     },
     "execution_count": 170,
     "metadata": {},
     "output_type": "execute_result"
    }
   ],
   "source": [
    "earl_of_sandwich.columns"
   ]
  },
  {
   "cell_type": "code",
   "execution_count": 171,
   "metadata": {},
   "outputs": [
    {
     "name": "stdout",
     "output_type": "stream",
     "text": [
      "root\n",
      " |-- business_id: string (nullable = true)\n",
      " |-- cool: long (nullable = true)\n",
      " |-- date: string (nullable = true)\n",
      " |-- funny: long (nullable = true)\n",
      " |-- review_id: string (nullable = true)\n",
      " |-- stars: double (nullable = true)\n",
      " |-- text: string (nullable = true)\n",
      " |-- useful: long (nullable = true)\n",
      " |-- user_id: string (nullable = true)\n",
      " |-- length: integer (nullable = true)\n",
      "\n"
     ]
    }
   ],
   "source": [
    "earl_of_sandwich.printSchema()"
   ]
  },
  {
   "cell_type": "code",
   "execution_count": 172,
   "metadata": {},
   "outputs": [],
   "source": [
    "tokenizer = Tokenizer(inputCol='text', outputCol='token_text')\n",
    "stop_words_remove = StopWordsRemover(inputCol='token_text', outputCol='stop_token')\n",
    "count_vec = CountVectorizer(inputCol='stop_token', outputCol='c_vec')\n",
    "idf = IDF(inputCol='c_vec', outputCol='tf_idf')\n",
    "stars_class = StringIndexer(inputCol='stars', outputCol='label')"
   ]
  },
  {
   "cell_type": "code",
   "execution_count": 173,
   "metadata": {},
   "outputs": [],
   "source": [
    "from pyspark.ml.feature import VectorAssembler"
   ]
  },
  {
   "cell_type": "code",
   "execution_count": 174,
   "metadata": {},
   "outputs": [],
   "source": [
    "clean_up = VectorAssembler(inputCols=['tf_idf', 'length'], outputCol='features')"
   ]
  },
  {
   "cell_type": "code",
   "execution_count": 175,
   "metadata": {},
   "outputs": [],
   "source": [
    "from pyspark.ml.classification import NaiveBayes"
   ]
  },
  {
   "cell_type": "code",
   "execution_count": 176,
   "metadata": {},
   "outputs": [],
   "source": [
    "nb = NaiveBayes()"
   ]
  },
  {
   "cell_type": "code",
   "execution_count": 177,
   "metadata": {},
   "outputs": [],
   "source": [
    "from pyspark.ml import Pipeline"
   ]
  },
  {
   "cell_type": "code",
   "execution_count": 178,
   "metadata": {},
   "outputs": [],
   "source": [
    "data_prep_pipe = Pipeline(stages=[stars_class, tokenizer,\n",
    "                                 stop_words_remove, count_vec, idf,\n",
    "                                 clean_up])"
   ]
  },
  {
   "cell_type": "code",
   "execution_count": 179,
   "metadata": {},
   "outputs": [],
   "source": [
    "cleaner = data_prep_pipe.fit(earl_of_sandwich)"
   ]
  },
  {
   "cell_type": "code",
   "execution_count": 180,
   "metadata": {},
   "outputs": [],
   "source": [
    "clean_data = cleaner.transform(earl_of_sandwich)"
   ]
  },
  {
   "cell_type": "code",
   "execution_count": 181,
   "metadata": {},
   "outputs": [],
   "source": [
    "clean_data = clean_data.select('label', 'features')"
   ]
  },
  {
   "cell_type": "code",
   "execution_count": 182,
   "metadata": {},
   "outputs": [
    {
     "name": "stdout",
     "output_type": "stream",
     "text": [
      "+-----+--------------------+\n",
      "|label|            features|\n",
      "+-----+--------------------+\n",
      "|  0.0|(26923,[4,9,12,10...|\n",
      "|  4.0|(26923,[0,2,17,54...|\n",
      "|  4.0|(26923,[0,1,3,18,...|\n",
      "|  2.0|(26923,[11,34,42,...|\n",
      "|  0.0|(26923,[1,2,11,15...|\n",
      "|  3.0|(26923,[10,16,79,...|\n",
      "|  0.0|(26923,[0,4,8,12,...|\n",
      "|  4.0|(26923,[0,4,12,16...|\n",
      "|  1.0|(26923,[0,1,5,7,8...|\n",
      "|  2.0|(26923,[1,15,16,3...|\n",
      "|  0.0|(26923,[1,2,13,14...|\n",
      "|  1.0|(26923,[0,1,5,13,...|\n",
      "|  1.0|(26923,[1,2,4,5,7...|\n",
      "|  1.0|(26923,[2,5,15,32...|\n",
      "|  1.0|(26923,[0,1,13,16...|\n",
      "|  2.0|(26923,[1,2,8,15,...|\n",
      "|  3.0|(26923,[1,3,6,7,8...|\n",
      "|  4.0|(26923,[8,76,192,...|\n",
      "|  0.0|(26923,[0,1,14,32...|\n",
      "|  2.0|(26923,[1,19,46,7...|\n",
      "+-----+--------------------+\n",
      "only showing top 20 rows\n",
      "\n"
     ]
    }
   ],
   "source": [
    "clean_data.show()"
   ]
  },
  {
   "cell_type": "code",
   "execution_count": 183,
   "metadata": {},
   "outputs": [],
   "source": [
    "training, test = clean_data.randomSplit([0.7, 0.3])"
   ]
  },
  {
   "cell_type": "code",
   "execution_count": 184,
   "metadata": {},
   "outputs": [],
   "source": [
    "star_detector = nb.fit(training)"
   ]
  },
  {
   "cell_type": "code",
   "execution_count": 185,
   "metadata": {},
   "outputs": [
    {
     "name": "stdout",
     "output_type": "stream",
     "text": [
      "root\n",
      " |-- business_id: string (nullable = true)\n",
      " |-- cool: long (nullable = true)\n",
      " |-- date: string (nullable = true)\n",
      " |-- funny: long (nullable = true)\n",
      " |-- review_id: string (nullable = true)\n",
      " |-- stars: double (nullable = true)\n",
      " |-- text: string (nullable = true)\n",
      " |-- useful: long (nullable = true)\n",
      " |-- user_id: string (nullable = true)\n",
      " |-- length: integer (nullable = true)\n",
      "\n"
     ]
    }
   ],
   "source": [
    "earl_of_sandwich.printSchema()"
   ]
  },
  {
   "cell_type": "code",
   "execution_count": 186,
   "metadata": {},
   "outputs": [],
   "source": [
    "test_results = star_detector.transform(test)"
   ]
  },
  {
   "cell_type": "code",
   "execution_count": 187,
   "metadata": {},
   "outputs": [
    {
     "name": "stdout",
     "output_type": "stream",
     "text": [
      "+-----+--------------------+--------------------+--------------------+----------+\n",
      "|label|            features|       rawPrediction|         probability|prediction|\n",
      "+-----+--------------------+--------------------+--------------------+----------+\n",
      "|  0.0|(26923,[0,3,6,12,...|[-2257.7283223200...|[0.99994534358914...|       0.0|\n",
      "|  0.0|(26923,[0,4,8,12,...|[-3737.3251404332...|[1.0,7.1426571945...|       0.0|\n",
      "|  0.0|(26923,[2,3,12,18...|[-1901.3512612624...|[0.99999993472454...|       0.0|\n",
      "|  1.0|(26923,[0,1,3,19,...|[-838.12138669477...|[1.51381796237448...|       1.0|\n",
      "|  1.0|(26923,[0,1,5,7,8...|[-5549.0814089650...|[1.87614452513813...|       2.0|\n",
      "|  1.0|(26923,[0,1,13,16...|[-2203.5453882083...|[0.99868472518438...|       0.0|\n",
      "|  1.0|(26923,[1,2,4,5,7...|[-1539.4068126819...|[3.25173402052072...|       1.0|\n",
      "|  1.0|(26923,[1,2,5,7,8...|[-738.54945014640...|[0.99884944171548...|       0.0|\n",
      "|  1.0|(26923,[1,5,13,14...|[-1651.7869631722...|[0.99999401430747...|       0.0|\n",
      "|  1.0|(26923,[2,13,14,2...|[-917.79732534409...|[0.99999999973216...|       0.0|\n",
      "|  2.0|(26923,[0,1,9,26,...|[-736.64200705096...|[1.98525737964752...|       1.0|\n",
      "|  2.0|(26923,[0,2,23,25...|[-589.82813173996...|[3.12359199387119...|       2.0|\n",
      "|  2.0|(26923,[0,3,4,6,1...|[-1688.9314635073...|[1.87654893410657...|       1.0|\n",
      "|  2.0|(26923,[0,5,6,8,9...|[-3854.5283646035...|[2.61250782177923...|       2.0|\n",
      "|  2.0|(26923,[0,6,16,19...|[-3002.0533264990...|[9.77645796191807...|       4.0|\n",
      "|  2.0|(26923,[0,7,10,14...|[-1084.5078013946...|[5.13002741706445...|       3.0|\n",
      "|  2.0|(26923,[1,2,8,15,...|[-815.19197363089...|[1.68862086323902...|       2.0|\n",
      "|  2.0|(26923,[1,3,18,19...|[-1287.5641668896...|[0.57856625679915...|       0.0|\n",
      "|  2.0|(26923,[1,15,16,3...|[-562.68916273900...|[3.01638682913337...|       3.0|\n",
      "|  2.0|(26923,[1,26,34,3...|[-1597.8205752650...|[6.01112765330051...|       1.0|\n",
      "+-----+--------------------+--------------------+--------------------+----------+\n",
      "only showing top 20 rows\n",
      "\n"
     ]
    }
   ],
   "source": [
    "test_results.show()"
   ]
  },
  {
   "cell_type": "code",
   "execution_count": 188,
   "metadata": {},
   "outputs": [],
   "source": [
    "from pyspark.ml.evaluation import MulticlassClassificationEvaluator"
   ]
  },
  {
   "cell_type": "code",
   "execution_count": 189,
   "metadata": {},
   "outputs": [],
   "source": [
    "acc_eval = MulticlassClassificationEvaluator()"
   ]
  },
  {
   "cell_type": "code",
   "execution_count": 190,
   "metadata": {},
   "outputs": [],
   "source": [
    "acc = acc_eval.evaluate(test_results)"
   ]
  },
  {
   "cell_type": "code",
   "execution_count": 191,
   "metadata": {},
   "outputs": [
    {
     "name": "stdout",
     "output_type": "stream",
     "text": [
      "ACC of NB Model\n",
      "0.501903565387439\n"
     ]
    }
   ],
   "source": [
    "print('ACC of NB Model')\n",
    "print(acc)"
   ]
  },
  {
   "cell_type": "markdown",
   "metadata": {},
   "source": [
    "<p style=\"font-size:16px;color:blue;\">Accuracy is the same like if we simulate swapping the coin. It is due to small data set or text reviews provided by <b><i>Earl of Sandwich</i></b>. This can be improved by another ML model such as Random Forest, SVM or neural network.</p>"
   ]
  }
 ],
 "metadata": {
  "kernelspec": {
   "display_name": "Python 3",
   "language": "python",
   "name": "python3"
  },
  "language_info": {
   "codemirror_mode": {
    "name": "ipython",
    "version": 3
   },
   "file_extension": ".py",
   "mimetype": "text/x-python",
   "name": "python",
   "nbconvert_exporter": "python",
   "pygments_lexer": "ipython3",
   "version": "3.7.4"
  }
 },
 "nbformat": 4,
 "nbformat_minor": 2
}
